{
 "cells": [
  {
   "cell_type": "code",
   "execution_count": 1,
   "id": "a4bc7581",
   "metadata": {},
   "outputs": [
    {
     "name": "stdout",
     "output_type": "stream",
     "text": [
      "Requirement already satisfied: seaborn in c:\\users\\shreeyash pandey\\uh\\envs\\new\\lib\\site-packages (0.11.2)\n",
      "Requirement already satisfied: matplotlib>=2.2 in c:\\users\\shreeyash pandey\\uh\\envs\\new\\lib\\site-packages (from seaborn) (3.5.1)\n",
      "Requirement already satisfied: numpy>=1.15 in c:\\users\\shreeyash pandey\\uh\\envs\\new\\lib\\site-packages (from seaborn) (1.21.5)\n",
      "Requirement already satisfied: scipy>=1.0 in c:\\users\\shreeyash pandey\\uh\\envs\\new\\lib\\site-packages (from seaborn) (1.7.3)\n",
      "Requirement already satisfied: pandas>=0.23 in c:\\users\\shreeyash pandey\\uh\\envs\\new\\lib\\site-packages (from seaborn) (1.4.1)\n",
      "Requirement already satisfied: kiwisolver>=1.0.1 in c:\\users\\shreeyash pandey\\uh\\envs\\new\\lib\\site-packages (from matplotlib>=2.2->seaborn) (1.4.2)\n",
      "Requirement already satisfied: python-dateutil>=2.7 in c:\\users\\shreeyash pandey\\uh\\envs\\new\\lib\\site-packages (from matplotlib>=2.2->seaborn) (2.8.2)\n",
      "Requirement already satisfied: packaging>=20.0 in c:\\users\\shreeyash pandey\\uh\\envs\\new\\lib\\site-packages (from matplotlib>=2.2->seaborn) (21.3)\n",
      "Requirement already satisfied: fonttools>=4.22.0 in c:\\users\\shreeyash pandey\\uh\\envs\\new\\lib\\site-packages (from matplotlib>=2.2->seaborn) (4.31.2)\n",
      "Requirement already satisfied: pillow>=6.2.0 in c:\\users\\shreeyash pandey\\uh\\envs\\new\\lib\\site-packages (from matplotlib>=2.2->seaborn) (9.1.0)\n",
      "Requirement already satisfied: cycler>=0.10 in c:\\users\\shreeyash pandey\\uh\\envs\\new\\lib\\site-packages (from matplotlib>=2.2->seaborn) (0.11.0)\n",
      "Requirement already satisfied: pyparsing>=2.2.1 in c:\\users\\shreeyash pandey\\uh\\envs\\new\\lib\\site-packages (from matplotlib>=2.2->seaborn) (3.0.4)\n",
      "Requirement already satisfied: pytz>=2020.1 in c:\\users\\shreeyash pandey\\uh\\envs\\new\\lib\\site-packages (from pandas>=0.23->seaborn) (2021.3)\n",
      "Requirement already satisfied: six>=1.5 in c:\\users\\shreeyash pandey\\uh\\envs\\new\\lib\\site-packages (from python-dateutil>=2.7->matplotlib>=2.2->seaborn) (1.16.0)\n"
     ]
    },
    {
     "name": "stderr",
     "output_type": "stream",
     "text": [
      "WARNING: You are using pip version 22.0.4; however, version 22.2.2 is available.\n",
      "You should consider upgrading via the 'C:\\Users\\Shreeyash Pandey\\uh\\envs\\new\\python.exe -m pip install --upgrade pip' command.\n"
     ]
    }
   ],
   "source": [
    "import os\n",
    "import keras \n",
    "!pip install seaborn\n",
    "from keras.models import Sequential\n",
    "from keras.layers import Conv2D, MaxPooling2D, Flatten, Dense, Dropout, BatchNormalization\n",
    "from PIL import Image\n",
    "import numpy as np\n",
    "import seaborn as sns\n",
    "\n",
    "import pandas as pd\n",
    "import matplotlib.pyplot as plt\n",
    "plt.style.use('dark_background')\n",
    "from sklearn.model_selection import train_test_split\n",
    "from sklearn.preprocessing import OneHotEncoder "
   ]
  },
  {
   "cell_type": "code",
   "execution_count": 2,
   "id": "5fd7a932",
   "metadata": {},
   "outputs": [
    {
     "data": {
      "text/plain": [
       "OneHotEncoder()"
      ]
     },
     "execution_count": 2,
     "metadata": {},
     "output_type": "execute_result"
    }
   ],
   "source": [
    "encoder = OneHotEncoder()\n",
    "encoder.fit([[0], [1]]) "
   ]
  },
  {
   "cell_type": "code",
   "execution_count": 3,
   "id": "886b6016",
   "metadata": {},
   "outputs": [],
   "source": [
    "data = []\n",
    "paths = []\n",
    "result = []\n",
    "\n",
    "for r, d, f in os.walk(r'C:\\Users\\Shreeyash Pandey\\Downloads\\archive (3)\\DataSet\\yes'):\n",
    "    for file in f:\n",
    "        if '.jpg' in file:\n",
    "            paths.append(os.path.join(r, file))\n",
    "\n",
    "for path in paths:\n",
    "    img = Image.open(path)\n",
    "    img = img.resize((128,128))\n",
    "    img = np.array(img)\n",
    "    if(img.shape == (128,128,3)):\n",
    "        data.append(np.array(img))\n",
    "        result.append(encoder.transform([[0]]).toarray())"
   ]
  },
  {
   "cell_type": "code",
   "execution_count": 4,
   "id": "774ec888",
   "metadata": {},
   "outputs": [],
   "source": [
    "paths = []\n",
    "for r, d, f in os.walk(r\"C:\\Users\\Shreeyash Pandey\\Downloads\\archive (3)\\DataSet\\no\"):\n",
    "    for file in f:\n",
    "        if '.jpg' in file:\n",
    "            paths.append(os.path.join(r, file))\n",
    "\n",
    "for path in paths:\n",
    "    img = Image.open(path)\n",
    "    img = img.resize((128,128))\n",
    "    img = np.array(img)\n",
    "    if(img.shape == (128,128,3)):\n",
    "        data.append(np.array(img))\n",
    "        result.append(encoder.transform([[1]]).toarray())"
   ]
  },
  {
   "cell_type": "code",
   "execution_count": 5,
   "id": "829683ed",
   "metadata": {},
   "outputs": [
    {
     "data": {
      "text/plain": [
       "(2594, 128, 128, 3)"
      ]
     },
     "execution_count": 5,
     "metadata": {},
     "output_type": "execute_result"
    }
   ],
   "source": [
    "data = np.array(data)\n",
    "data.shape"
   ]
  },
  {
   "cell_type": "code",
   "execution_count": 6,
   "id": "b433498d",
   "metadata": {},
   "outputs": [],
   "source": [
    "result = np.array(result)\n",
    "result = result.reshape(2594,2)"
   ]
  },
  {
   "cell_type": "code",
   "execution_count": 7,
   "id": "023a235e",
   "metadata": {},
   "outputs": [],
   "source": [
    "x_train,x_test,y_train,y_test = train_test_split(data, result, test_size=0.2, shuffle=True, random_state=0)"
   ]
  },
  {
   "cell_type": "code",
   "execution_count": 8,
   "id": "6fb578af",
   "metadata": {},
   "outputs": [],
   "source": [
    "from keras.applications.inception_v3 import InceptionV3\n",
    "from keras.applications.inception_v3 import preprocess_input\n",
    "from keras.applications.inception_v3 import decode_predictions"
   ]
  },
  {
   "cell_type": "code",
   "execution_count": 9,
   "id": "7ab9f836",
   "metadata": {},
   "outputs": [],
   "source": [
    "model = InceptionV3(input_shape=(128,128,3),weights='imagenet', include_top=False)\n"
   ]
  },
  {
   "cell_type": "code",
   "execution_count": 10,
   "id": "6dafa068",
   "metadata": {},
   "outputs": [],
   "source": [
    "from tensorflow.keras.preprocessing import image\n",
    "from tensorflow.keras.models import Model\n",
    "from tensorflow.keras.layers import Dense, GlobalAveragePooling2D"
   ]
  },
  {
   "cell_type": "code",
   "execution_count": 11,
   "id": "a0d261cc",
   "metadata": {},
   "outputs": [],
   "source": [
    "base_model = InceptionV3(weights='imagenet', include_top=False)\n",
    "\n",
    "x = base_model.output\n",
    "x = GlobalAveragePooling2D()(x)\n",
    "# let's add a fully-connected layer\n",
    "\n",
    "x = Dense(1024, activation='relu')(x)\n",
    "\n",
    "\n",
    "predictions = Dense(2, activation='sigmoid')(x)\n",
    "\n",
    "# this is the model we will train\n",
    "model = Model(inputs=base_model.input, outputs=predictions)\n",
    "\n",
    "# first: train only the top layers (which were randomly initialized)\n",
    "# i.e. freeze all convolutional InceptionV3 layers\n",
    "for layer in base_model.layers:\n",
    "    layer.trainable = False\n",
    "\n",
    "# compile the model (should be done *after* setting layers to non-trainable)\n",
    "model.compile(optimizer='rmsprop', loss='categorical_crossentropy',metrics=['accuracy'])"
   ]
  },
  {
   "cell_type": "code",
   "execution_count": 12,
   "id": "da65e8c4",
   "metadata": {},
   "outputs": [
    {
     "data": {
      "text/plain": [
       "array([[[[  0,   0,   0],\n",
       "         [  0,   0,   0],\n",
       "         [  0,   0,   0],\n",
       "         ...,\n",
       "         [  5,   5,   5],\n",
       "         [ 13,  13,  13],\n",
       "         [ 11,  11,  11]],\n",
       "\n",
       "        [[  0,   0,   0],\n",
       "         [  0,   0,   0],\n",
       "         [  0,   0,   0],\n",
       "         ...,\n",
       "         [  6,   6,   6],\n",
       "         [  8,   8,   8],\n",
       "         [  6,   6,   6]],\n",
       "\n",
       "        [[  0,   0,   0],\n",
       "         [  0,   0,   0],\n",
       "         [  0,   0,   0],\n",
       "         ...,\n",
       "         [ 15,  15,  15],\n",
       "         [ 10,  10,  10],\n",
       "         [ 11,  11,  11]],\n",
       "\n",
       "        ...,\n",
       "\n",
       "        [[  0,   0,   0],\n",
       "         [  0,   0,   0],\n",
       "         [  0,   0,   0],\n",
       "         ...,\n",
       "         [  9,   9,   9],\n",
       "         [ 19,  19,  19],\n",
       "         [ 18,  18,  18]],\n",
       "\n",
       "        [[  0,   0,   0],\n",
       "         [  0,   0,   0],\n",
       "         [  0,   0,   0],\n",
       "         ...,\n",
       "         [ 10,  10,  10],\n",
       "         [ 12,  12,  12],\n",
       "         [ 10,  10,  10]],\n",
       "\n",
       "        [[  0,   0,   0],\n",
       "         [  0,   0,   0],\n",
       "         [  0,   0,   0],\n",
       "         ...,\n",
       "         [  9,   9,   9],\n",
       "         [ 14,  14,  14],\n",
       "         [ 14,  14,  14]]],\n",
       "\n",
       "\n",
       "       [[[  0,   0,   0],\n",
       "         [  0,   0,   0],\n",
       "         [  0,   0,   0],\n",
       "         ...,\n",
       "         [  0,   0,   0],\n",
       "         [  0,   0,   0],\n",
       "         [  0,   0,   0]],\n",
       "\n",
       "        [[  0,   0,   0],\n",
       "         [  0,   0,   0],\n",
       "         [  0,   0,   0],\n",
       "         ...,\n",
       "         [  0,   0,   0],\n",
       "         [  0,   0,   0],\n",
       "         [  0,   0,   0]],\n",
       "\n",
       "        [[  0,   0,   0],\n",
       "         [  0,   0,   0],\n",
       "         [  0,   0,   0],\n",
       "         ...,\n",
       "         [  0,   0,   0],\n",
       "         [  0,   0,   0],\n",
       "         [  0,   0,   0]],\n",
       "\n",
       "        ...,\n",
       "\n",
       "        [[  0,   0,   0],\n",
       "         [  0,   0,   0],\n",
       "         [  0,   0,   0],\n",
       "         ...,\n",
       "         [  0,   0,   0],\n",
       "         [  0,   0,   0],\n",
       "         [  0,   0,   0]],\n",
       "\n",
       "        [[  0,   0,   0],\n",
       "         [  0,   0,   0],\n",
       "         [  0,   0,   0],\n",
       "         ...,\n",
       "         [  0,   0,   0],\n",
       "         [  0,   0,   0],\n",
       "         [  0,   0,   0]],\n",
       "\n",
       "        [[  0,   0,   0],\n",
       "         [  0,   0,   0],\n",
       "         [  0,   0,   0],\n",
       "         ...,\n",
       "         [  0,   0,   0],\n",
       "         [  0,   0,   0],\n",
       "         [  0,   0,   0]]],\n",
       "\n",
       "\n",
       "       [[[  0,   0,   0],\n",
       "         [  0,   0,   0],\n",
       "         [  0,   0,   0],\n",
       "         ...,\n",
       "         [  0,   0,   0],\n",
       "         [  0,   0,   0],\n",
       "         [  0,   0,   0]],\n",
       "\n",
       "        [[  0,   0,   0],\n",
       "         [  0,   0,   0],\n",
       "         [  0,   0,   0],\n",
       "         ...,\n",
       "         [  0,   0,   0],\n",
       "         [  0,   0,   0],\n",
       "         [  0,   0,   0]],\n",
       "\n",
       "        [[  0,   0,   0],\n",
       "         [  0,   0,   0],\n",
       "         [  0,   0,   0],\n",
       "         ...,\n",
       "         [  0,   0,   0],\n",
       "         [  0,   0,   0],\n",
       "         [  0,   0,   0]],\n",
       "\n",
       "        ...,\n",
       "\n",
       "        [[  0,   0,   0],\n",
       "         [  0,   0,   0],\n",
       "         [  0,   0,   0],\n",
       "         ...,\n",
       "         [  0,   0,   0],\n",
       "         [  0,   0,   0],\n",
       "         [  0,   0,   0]],\n",
       "\n",
       "        [[  0,   0,   0],\n",
       "         [  0,   0,   0],\n",
       "         [  0,   0,   0],\n",
       "         ...,\n",
       "         [  0,   0,   0],\n",
       "         [  0,   0,   0],\n",
       "         [  0,   0,   0]],\n",
       "\n",
       "        [[  0,   0,   0],\n",
       "         [  0,   0,   0],\n",
       "         [  0,   0,   0],\n",
       "         ...,\n",
       "         [  0,   0,   0],\n",
       "         [  0,   0,   0],\n",
       "         [  0,   0,   0]]],\n",
       "\n",
       "\n",
       "       ...,\n",
       "\n",
       "\n",
       "       [[[151, 153, 152],\n",
       "         [ 59,  61,  60],\n",
       "         [ 49,  51,  50],\n",
       "         ...,\n",
       "         [ 60,  62,  61],\n",
       "         [ 55,  57,  56],\n",
       "         [ 43,  45,  44]],\n",
       "\n",
       "        [[145, 146, 146],\n",
       "         [ 89,  90,  89],\n",
       "         [ 48,  50,  49],\n",
       "         ...,\n",
       "         [ 61,  63,  62],\n",
       "         [ 52,  54,  53],\n",
       "         [ 42,  44,  43]],\n",
       "\n",
       "        [[144, 145, 145],\n",
       "         [ 84,  86,  85],\n",
       "         [ 50,  52,  51],\n",
       "         ...,\n",
       "         [ 62,  64,  63],\n",
       "         [ 53,  55,  54],\n",
       "         [ 46,  48,  47]],\n",
       "\n",
       "        ...,\n",
       "\n",
       "        [[144, 144, 144],\n",
       "         [ 91,  91,  91],\n",
       "         [ 58,  58,  58],\n",
       "         ...,\n",
       "         [ 48,  48,  48],\n",
       "         [ 46,  46,  46],\n",
       "         [ 46,  46,  46]],\n",
       "\n",
       "        [[145, 145, 145],\n",
       "         [ 88,  88,  88],\n",
       "         [ 62,  62,  62],\n",
       "         ...,\n",
       "         [ 45,  45,  45],\n",
       "         [ 44,  44,  44],\n",
       "         [ 39,  39,  39]],\n",
       "\n",
       "        [[149, 149, 149],\n",
       "         [ 67,  67,  67],\n",
       "         [ 72,  72,  72],\n",
       "         ...,\n",
       "         [ 54,  54,  54],\n",
       "         [ 74,  74,  74],\n",
       "         [ 39,  39,  39]]],\n",
       "\n",
       "\n",
       "       [[[  1,   1,   1],\n",
       "         [  1,   1,   1],\n",
       "         [  1,   1,   1],\n",
       "         ...,\n",
       "         [  1,   1,   1],\n",
       "         [  1,   1,   1],\n",
       "         [  0,   0,   0]],\n",
       "\n",
       "        [[  1,   1,   1],\n",
       "         [  1,   1,   1],\n",
       "         [  1,   1,   1],\n",
       "         ...,\n",
       "         [  1,   1,   1],\n",
       "         [  1,   1,   1],\n",
       "         [  0,   0,   0]],\n",
       "\n",
       "        [[  1,   1,   1],\n",
       "         [  1,   1,   1],\n",
       "         [  1,   1,   1],\n",
       "         ...,\n",
       "         [  1,   1,   1],\n",
       "         [  1,   1,   1],\n",
       "         [  2,   2,   2]],\n",
       "\n",
       "        ...,\n",
       "\n",
       "        [[  1,   1,   1],\n",
       "         [  1,   1,   1],\n",
       "         [  1,   1,   1],\n",
       "         ...,\n",
       "         [  1,   1,   1],\n",
       "         [  1,   1,   1],\n",
       "         [  1,   1,   1]],\n",
       "\n",
       "        [[  0,   0,   0],\n",
       "         [  0,   0,   0],\n",
       "         [  0,   0,   0],\n",
       "         ...,\n",
       "         [  0,   0,   0],\n",
       "         [  0,   0,   0],\n",
       "         [  0,   0,   0]],\n",
       "\n",
       "        [[  0,   0,   0],\n",
       "         [  0,   0,   0],\n",
       "         [  0,   0,   0],\n",
       "         ...,\n",
       "         [  0,   0,   0],\n",
       "         [  0,   0,   0],\n",
       "         [  0,   0,   0]]],\n",
       "\n",
       "\n",
       "       [[[133, 133, 133],\n",
       "         [119, 119, 119],\n",
       "         [120, 120, 120],\n",
       "         ...,\n",
       "         [123, 123, 123],\n",
       "         [140, 140, 140],\n",
       "         [241, 241, 241]],\n",
       "\n",
       "        [[  3,   3,   3],\n",
       "         [  0,   0,   0],\n",
       "         [  0,   0,   0],\n",
       "         ...,\n",
       "         [  7,   7,   7],\n",
       "         [ 48,  48,  48],\n",
       "         [241, 241, 241]],\n",
       "\n",
       "        [[ 23,  23,  23],\n",
       "         [ 17,  17,  17],\n",
       "         [ 16,  16,  16],\n",
       "         ...,\n",
       "         [ 31,  31,  31],\n",
       "         [ 65,  65,  65],\n",
       "         [240, 240, 240]],\n",
       "\n",
       "        ...,\n",
       "\n",
       "        [[  9,   9,   9],\n",
       "         [ 10,  10,  10],\n",
       "         [  7,   7,   7],\n",
       "         ...,\n",
       "         [  2,   2,   2],\n",
       "         [ 33,  33,  33],\n",
       "         [244, 244, 244]],\n",
       "\n",
       "        [[ 14,  14,  14],\n",
       "         [  4,   4,   4],\n",
       "         [  3,   3,   3],\n",
       "         ...,\n",
       "         [  1,   1,   1],\n",
       "         [ 35,  35,  35],\n",
       "         [245, 245, 245]],\n",
       "\n",
       "        [[ 25,  25,  25],\n",
       "         [  5,   5,   5],\n",
       "         [  5,   5,   5],\n",
       "         ...,\n",
       "         [  5,   5,   5],\n",
       "         [ 39,  39,  39],\n",
       "         [245, 245, 245]]]], dtype=uint8)"
      ]
     },
     "execution_count": 12,
     "metadata": {},
     "output_type": "execute_result"
    }
   ],
   "source": [
    "x_train"
   ]
  },
  {
   "cell_type": "code",
   "execution_count": 13,
   "id": "2c6dafc8",
   "metadata": {},
   "outputs": [
    {
     "name": "stdout",
     "output_type": "stream",
     "text": [
      "Epoch 1/5\n",
      "42/42 [==============================] - 106s 2s/step - loss: 61.1260 - accuracy: 0.5851 - val_loss: 4.6350 - val_accuracy: 0.7225\n",
      "Epoch 2/5\n",
      "42/42 [==============================] - 88s 2s/step - loss: 6.8732 - accuracy: 0.6752 - val_loss: 4.2943 - val_accuracy: 0.6879\n",
      "Epoch 3/5\n",
      "42/42 [==============================] - 71s 2s/step - loss: 3.8292 - accuracy: 0.7176 - val_loss: 1.5065 - val_accuracy: 0.7746\n",
      "Epoch 4/5\n",
      "42/42 [==============================] - 57s 1s/step - loss: 2.3592 - accuracy: 0.7205 - val_loss: 0.8033 - val_accuracy: 0.8015\n",
      "Epoch 5/5\n",
      "42/42 [==============================] - 70s 2s/step - loss: 1.5603 - accuracy: 0.7422 - val_loss: 3.5869 - val_accuracy: 0.5780\n"
     ]
    }
   ],
   "source": [
    "history = model.fit(x_train, y_train, epochs = 5, batch_size = 50, verbose = 1,validation_data = (x_test, y_test))"
   ]
  },
  {
   "cell_type": "code",
   "execution_count": 14,
   "id": "2abbd70d",
   "metadata": {},
   "outputs": [
    {
     "name": "stdout",
     "output_type": "stream",
     "text": [
      "17/17 [==============================] - 15s 826ms/step - loss: 3.5869 - accuracy: 0.5780\n"
     ]
    }
   ],
   "source": [
    "accur=model.evaluate(x_test,y_test)"
   ]
  },
  {
   "cell_type": "code",
   "execution_count": 15,
   "id": "f6192ba5",
   "metadata": {},
   "outputs": [],
   "source": [
    "import cv2 "
   ]
  },
  {
   "cell_type": "code",
   "execution_count": 16,
   "id": "ce118d7d",
   "metadata": {},
   "outputs": [],
   "source": [
    "img = cv2.imread(r\"C:\\Users\\Shreeyash Pandey\\Downloads\\archive (3)\\TestDataSet\\yes\\y22.jpg\", cv2.IMREAD_COLOR)"
   ]
  },
  {
   "cell_type": "code",
   "execution_count": 18,
   "id": "00e3ff40",
   "metadata": {},
   "outputs": [],
   "source": [
    "img=np.resize(img,(128,128))"
   ]
  },
  {
   "cell_type": "code",
   "execution_count": 19,
   "id": "03bfe6f9",
   "metadata": {},
   "outputs": [
    {
     "data": {
      "text/plain": [
       "(128, 128)"
      ]
     },
     "execution_count": 19,
     "metadata": {},
     "output_type": "execute_result"
    }
   ],
   "source": [
    "img.shape"
   ]
  },
  {
   "cell_type": "code",
   "execution_count": 20,
   "id": "e5c5a16f",
   "metadata": {},
   "outputs": [],
   "source": [
    "img=np.array(img)"
   ]
  },
  {
   "cell_type": "code",
   "execution_count": 21,
   "id": "27f804e6",
   "metadata": {},
   "outputs": [
    {
     "data": {
      "text/plain": [
       "(128, 128)"
      ]
     },
     "execution_count": 21,
     "metadata": {},
     "output_type": "execute_result"
    }
   ],
   "source": [
    "img.shape"
   ]
  },
  {
   "cell_type": "code",
   "execution_count": 22,
   "id": "66a0fcfa",
   "metadata": {
    "scrolled": true
   },
   "outputs": [
    {
     "data": {
      "text/plain": [
       "array([[[0],\n",
       "        [0],\n",
       "        [0],\n",
       "        ...,\n",
       "        [0],\n",
       "        [0],\n",
       "        [0]],\n",
       "\n",
       "       [[0],\n",
       "        [0],\n",
       "        [0],\n",
       "        ...,\n",
       "        [0],\n",
       "        [0],\n",
       "        [0]],\n",
       "\n",
       "       [[0],\n",
       "        [0],\n",
       "        [0],\n",
       "        ...,\n",
       "        [0],\n",
       "        [0],\n",
       "        [0]],\n",
       "\n",
       "       ...,\n",
       "\n",
       "       [[0],\n",
       "        [0],\n",
       "        [0],\n",
       "        ...,\n",
       "        [0],\n",
       "        [0],\n",
       "        [0]],\n",
       "\n",
       "       [[0],\n",
       "        [0],\n",
       "        [0],\n",
       "        ...,\n",
       "        [0],\n",
       "        [0],\n",
       "        [0]],\n",
       "\n",
       "       [[0],\n",
       "        [0],\n",
       "        [0],\n",
       "        ...,\n",
       "        [0],\n",
       "        [0],\n",
       "        [0]]], dtype=uint8)"
      ]
     },
     "execution_count": 22,
     "metadata": {},
     "output_type": "execute_result"
    }
   ],
   "source": [
    "img.reshape(128,128,1)"
   ]
  },
  {
   "cell_type": "code",
   "execution_count": 23,
   "id": "90eff243",
   "metadata": {},
   "outputs": [
    {
     "name": "stdout",
     "output_type": "stream",
     "text": [
      "[[0.43168646 0.9997118 ]]\n"
     ]
    }
   ],
   "source": [
    "img = image.load_img(r\"C:\\Users\\Shreeyash Pandey\\Desktop\\Brain Tumor detection\\static\\uploads\\y21.jpg\", target_size=(128, 128))\n",
    "img = np.expand_dims(img, axis=0)\n",
    "result=model.predict(img)\n",
    "print(result)"
   ]
  },
  {
   "cell_type": "code",
   "execution_count": 24,
   "id": "029d9113",
   "metadata": {},
   "outputs": [
    {
     "data": {
      "text/plain": [
       "array([1], dtype=int64)"
      ]
     },
     "execution_count": 24,
     "metadata": {},
     "output_type": "execute_result"
    }
   ],
   "source": [
    "np.argmax(result,axis=1)\n"
   ]
  },
  {
   "cell_type": "code",
   "execution_count": 25,
   "id": "550b708d",
   "metadata": {},
   "outputs": [
    {
     "name": "stdout",
     "output_type": "stream",
     "text": [
      "INFO:tensorflow:Assets written to: model\\assets\n"
     ]
    }
   ],
   "source": [
    "model.save(\"model\")"
   ]
  },
  {
   "cell_type": "code",
   "execution_count": 1,
   "id": "93acb6a6",
   "metadata": {},
   "outputs": [
    {
     "name": "stdout",
     "output_type": "stream",
     "text": [
      " * Serving Flask app '__main__' (lazy loading)\n",
      " * Environment: production\n",
      "\u001b[31m   WARNING: This is a development server. Do not use it in a production deployment.\u001b[0m\n",
      "\u001b[2m   Use a production WSGI server instead.\u001b[0m\n",
      " * Debug mode: off\n"
     ]
    },
    {
     "name": "stderr",
     "output_type": "stream",
     "text": [
      " * Running on http://127.0.0.1:5000/ (Press CTRL+C to quit)\n",
      "127.0.0.1 - - [12/Aug/2022 03:18:48] \"GET / HTTP/1.1\" 200 -\n",
      "127.0.0.1 - - [12/Aug/2022 03:18:48] \"GET /github.png HTTP/1.1\" 404 -\n",
      "127.0.0.1 - - [12/Aug/2022 03:18:48] \"GET /linkedin.png HTTP/1.1\" 404 -\n",
      "127.0.0.1 - - [12/Aug/2022 03:18:49] \"GET /twitter.png HTTP/1.1\" 404 -\n",
      "127.0.0.1 - - [12/Aug/2022 03:18:49] \"GET /instagram.png HTTP/1.1\" 404 -\n",
      "127.0.0.1 - - [12/Aug/2022 03:18:49] \"GET /bg_vedio.mp4 HTTP/1.1\" 404 -\n"
     ]
    },
    {
     "name": "stdout",
     "output_type": "stream",
     "text": [
      "y21.jpg\n"
     ]
    },
    {
     "name": "stderr",
     "output_type": "stream",
     "text": [
      "127.0.0.1 - - [12/Aug/2022 03:22:11] \"POST / HTTP/1.1\" 200 -\n",
      "127.0.0.1 - - [12/Aug/2022 03:22:11] \""
     ]
    },
    {
     "name": "stdout",
     "output_type": "stream",
     "text": [
      "NO Brain Tumor\n"
     ]
    },
    {
     "name": "stderr",
     "output_type": "stream",
     "text": [
      "GET /github.png HTTP/1.1\" 404 -\n",
      "127.0.0.1 - - [12/Aug/2022 03:22:11] \"GET /linkedin.png HTTP/1.1\" 404 -\n",
      "127.0.0.1 - - [12/Aug/2022 03:22:12] \"GET /twitter.png HTTP/1.1\" 404 -\n",
      "127.0.0.1 - - [12/Aug/2022 03:22:12] \"GET /instagram.png HTTP/1.1\" 404 -\n",
      "127.0.0.1 - - [12/Aug/2022 03:22:21] \"GET /bg_vedio.mp4 HTTP/1.1\" 404 -\n"
     ]
    }
   ],
   "source": [
    "import os\n",
    "import urllib.request\n",
    "from flask import Flask, flash, request, redirect, url_for, render_template\n",
    "from werkzeug.utils import secure_filename\n",
    "import numpy as np\n",
    "import tensorflow as tf\n",
    "\n",
    "ASSET_FOLDER = 'static/assets/'\n",
    "\n",
    "app = Flask(__name__)\n",
    "app.config['ASSET_FOLDER'] = ASSET_FOLDER\n",
    "\n",
    "github_icon = os.path.join(app.config['ASSET_FOLDER'], r'C:\\Users\\Shreeyash Pandey\\Documents\\GitHub\\Brain-Tumor-Detection-Using-Inception-V3\\static\\assets\\github.png')\n",
    "linkedin_icon = os.path.join(app.config['ASSET_FOLDER'], r'C:\\Users\\Shreeyash Pandey\\Documents\\GitHub\\Brain-Tumor-Detection-Using-Inception-V3\\static\\assets\\linkedin.png')\n",
    "instagram_icon = os.path.join(app.config['ASSET_FOLDER'], r'C:\\Users\\Shreeyash Pandey\\Documents\\GitHub\\Brain-Tumor-Detection-Using-Inception-V3\\static\\assets\\instagram.png')\n",
    "twitter_icon = os.path.join(app.config['ASSET_FOLDER'], r'C:\\Users\\Shreeyash Pandey\\Documents\\GitHub\\Brain-Tumor-Detection-Using-Inception-V3\\static\\assets\\twitter.png')\n",
    "bg_video = os.path.join(app.config['ASSET_FOLDER'], r'C:\\Users\\Shreeyash Pandey\\Documents\\GitHub\\Brain-Tumor-Detection-Using-Inception-V3\\static\\assets\\bg_vedio.mp4')\n",
    "    \n",
    "@app.route('/')\n",
    "def upload_form():\n",
    "    return render_template('index.html', type=\"\", githubicon=github_icon, linkedinicon=linkedin_icon, instagramicon=instagram_icon, twittericon=twitter_icon, bgvideo=bg_video)\n",
    "\n",
    "@app.route('/', methods=['POST'])\n",
    "def upload_image():\n",
    "    file = request.files['file']\n",
    "    print(file.filename)\n",
    "    file.save(os.path.join(\"static/uploads\", secure_filename(file.filename)))\n",
    "\n",
    "    imvar = tf.keras.preprocessing.image.load_img(os.path.join(\"static/uploads\", secure_filename(file.filename))).resize((128, 128))\n",
    "    imarr = tf.keras.preprocessing.image.img_to_array(imvar)\n",
    "    imarr = np.array([imarr])\n",
    "    model2 = tf.keras.models.load_model(\"model\")\n",
    "    impred = model2.predict(imarr)\n",
    "\n",
    "    def roundoff(arr):\n",
    "        \"\"\"To round off according to the argmax of each predicted label array. \"\"\"\n",
    "        arr[np.argwhere(arr != arr.max())] = 0\n",
    "        arr[np.argwhere(arr == arr.max())] = 1\n",
    "        return arr\n",
    "\n",
    "    for classpreds in impred:\n",
    "        impred = roundoff(classpreds)\n",
    "    \n",
    "    classcount = 1\n",
    "    for count in range(2):\n",
    "        if impred[count] == 1.0:\n",
    "            break\n",
    "        else:\n",
    "            classcount=2\n",
    "    \n",
    "    classdict = {1: \"Brain Tumor Exist\", 2: \"NO Brain Tumor\"}\n",
    "    print(classdict[classcount])\n",
    "\n",
    "    c = 'xyz'\n",
    "    return render_template('index.html', type=\"Patient is suffering from \"+str(classdict[classcount]), githubicon=github_icon, linkedinicon=linkedin_icon, instagramicon=instagram_icon, twittericon=twitter_icon, bgvideo=bg_video)\n",
    "\n",
    "if __name__ == \"__main__\":\n",
    "    app.run()"
   ]
  }
 ],
 "metadata": {
  "kernelspec": {
   "display_name": "Python 3.8.13",
   "language": "python",
   "name": "python3"
  },
  "language_info": {
   "codemirror_mode": {
    "name": "ipython",
    "version": 3
   },
   "file_extension": ".py",
   "mimetype": "text/x-python",
   "name": "python",
   "nbconvert_exporter": "python",
   "pygments_lexer": "ipython3",
   "version": "3.8.13"
  },
  "vscode": {
   "interpreter": {
    "hash": "63fd98301d029d0a71d609eeed07091d54f2b94ce9d083c24c87e87ff10a61e7"
   }
  }
 },
 "nbformat": 4,
 "nbformat_minor": 5
}
