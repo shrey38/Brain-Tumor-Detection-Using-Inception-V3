{
 "cells": [
  {
   "cell_type": "code",
   "execution_count": 1,
   "metadata": {},
   "outputs": [
    {
     "name": "stdout",
     "output_type": "stream",
     "text": [
      " * Serving Flask app '__main__' (lazy loading)\n",
      " * Environment: production\n",
      "\u001b[31m   WARNING: This is a development server. Do not use it in a production deployment.\u001b[0m\n",
      "\u001b[2m   Use a production WSGI server instead.\u001b[0m\n",
      " * Debug mode: off\n"
     ]
    },
    {
     "name": "stderr",
     "output_type": "stream",
     "text": [
      " * Running on http://127.0.0.1:5000/ (Press CTRL+C to quit)\n",
      "127.0.0.1 - - [25/Jul/2022 03:34:23] \"GET /github.png HTTP/1.1\" 404 -\n",
      "127.0.0.1 - - [25/Jul/2022 03:34:23] \"GET /linkedin.png HTTP/1.1\" 404 -\n",
      "127.0.0.1 - - [25/Jul/2022 03:34:23] \"GET /twitter.png HTTP/1.1\" 404 -\n",
      "127.0.0.1 - - [25/Jul/2022 03:34:24] \"GET /static/assets/pexels-tima-miroshnichenko-6010766.mp4 HTTP/1.1\" 404 -\n",
      "127.0.0.1 - - [25/Jul/2022 03:34:26] \"GET /instagram.png HTTP/1.1\" 404 -\n",
      "127.0.0.1 - - [25/Jul/2022 03:35:48] \"GET / HTTP/1.1\" 200 -\n",
      "127.0.0.1 - - [25/Jul/2022 03:35:48] \"GET /github.png HTTP/1.1\" 404 -\n",
      "127.0.0.1 - - [25/Jul/2022 03:35:48] \"GET /linkedin.png HTTP/1.1\" 404 -\n",
      "127.0.0.1 - - [25/Jul/2022 03:35:48] \"GET /twitter.png HTTP/1.1\" 404 -\n",
      "127.0.0.1 - - [25/Jul/2022 03:35:48] \"GET /instagram.png HTTP/1.1\" 404 -\n",
      "127.0.0.1 - - [25/Jul/2022 03:35:48] \"GET /static/assets/pexels-tima-miroshnichenko-6010766.mp4 HTTP/1.1\" 404 -\n"
     ]
    },
    {
     "name": "stdout",
     "output_type": "stream",
     "text": [
      "no30.jpg\n"
     ]
    },
    {
     "name": "stderr",
     "output_type": "stream",
     "text": [
      "127.0.0.1 - - [25/Jul/2022 03:37:26] \"GET / HTTP/1.1\" 200 -\n",
      "127.0.0.1 - - [25/Jul/2022 03:37:26] \"GET /github.png HTTP/1.1\" 404 -\n",
      "127.0.0.1 - - [25/Jul/2022 03:37:26] \"GET /linkedin.png HTTP/1.1\" 404 -\n",
      "127.0.0.1 - - [25/Jul/2022 03:37:26] \"GET /twitter.png HTTP/1.1\" 404 -\n",
      "127.0.0.1 - - [25/Jul/2022 03:37:26] \"GET /instagram.png HTTP/1.1\" 404 -\n",
      "127.0.0.1 - - [25/Jul/2022 03:37:26] \"GET /static/assets/pexels-tima-miroshnichenko-6010766.mp4 HTTP/1.1\" 404 -\n"
     ]
    },
    {
     "name": "stdout",
     "output_type": "stream",
     "text": [
      "no30.jpg\n"
     ]
    },
    {
     "name": "stderr",
     "output_type": "stream",
     "text": [
      "127.0.0.1 - - [25/Jul/2022 03:40:29] \"GET / HTTP/1.1\" 200 -\n",
      "127.0.0.1 - - [25/Jul/2022 03:40:29] \"GET /github.png HTTP/1.1\" 404 -\n",
      "127.0.0.1 - - [25/Jul/2022 03:40:29] \"GET /linkedin.png HTTP/1.1\" 404 -\n",
      "127.0.0.1 - - [25/Jul/2022 03:40:29] \"GET /twitter.png HTTP/1.1\" 404 -\n",
      "127.0.0.1 - - [25/Jul/2022 03:40:29] \"GET /instagram.png HTTP/1.1\" 404 -\n",
      "127.0.0.1 - - [25/Jul/2022 03:40:29] \"GET /static/assets/pexels-tima-miroshnichenko-6010766.mp4 HTTP/1.1\" 404 -\n",
      "127.0.0.1 - - [25/Jul/2022 03:41:02] \"POST / HTTP/1.1\" 200 -\n"
     ]
    },
    {
     "name": "stdout",
     "output_type": "stream",
     "text": [
      "Mild Dementia\n"
     ]
    },
    {
     "name": "stderr",
     "output_type": "stream",
     "text": [
      "127.0.0.1 - - [25/Jul/2022 03:41:10] \"GET / HTTP/1.1\" 200 -\n",
      "127.0.0.1 - - [25/Jul/2022 03:41:11] \"GET /github.png HTTP/1.1\" 404 -\n",
      "127.0.0.1 - - [25/Jul/2022 03:41:11] \"GET /linkedin.png HTTP/1.1\" 404 -\n",
      "127.0.0.1 - - [25/Jul/2022 03:41:11] \"GET /twitter.png HTTP/1.1\" 404 -\n",
      "127.0.0.1 - - [25/Jul/2022 03:41:11] \"GET /instagram.png HTTP/1.1\" 404 -\n",
      "127.0.0.1 - - [25/Jul/2022 03:41:11] \"GET /static/assets/pexels-tima-miroshnichenko-6010766.mp4 HTTP/1.1\" 404 -\n"
     ]
    },
    {
     "name": "stdout",
     "output_type": "stream",
     "text": [
      "no30.jpg\n"
     ]
    },
    {
     "name": "stderr",
     "output_type": "stream",
     "text": [
      "127.0.0.1 - - [25/Jul/2022 03:42:56] \"POST / HTTP/1.1\" 200 -\n"
     ]
    },
    {
     "name": "stdout",
     "output_type": "stream",
     "text": [
      "Mild Dementia\n"
     ]
    },
    {
     "name": "stderr",
     "output_type": "stream",
     "text": [
      "127.0.0.1 - - [25/Jul/2022 03:43:51] \"POST / HTTP/1.1\" 200 -\n"
     ]
    },
    {
     "name": "stdout",
     "output_type": "stream",
     "text": [
      "Mild Dementia\n"
     ]
    },
    {
     "name": "stderr",
     "output_type": "stream",
     "text": [
      "127.0.0.1 - - [25/Jul/2022 03:43:51] \"GET /github.png HTTP/1.1\" 404 -\n",
      "127.0.0.1 - - [25/Jul/2022 03:43:51] \"GET /linkedin.png HTTP/1.1\" 404 -\n",
      "127.0.0.1 - - [25/Jul/2022 03:43:51] \"GET /twitter.png HTTP/1.1\" 404 -\n",
      "127.0.0.1 - - [25/Jul/2022 03:43:51] \"GET /instagram.png HTTP/1.1\" 404 -\n",
      "127.0.0.1 - - [25/Jul/2022 03:55:11] \"GET /static/assets/pexels-tima-miroshnichenko-6010766.mp4 HTTP/1.1\" 404 -\n",
      "127.0.0.1 - - [25/Jul/2022 03:55:13] \"GET / HTTP/1.1\" 200 -\n",
      "127.0.0.1 - - [25/Jul/2022 03:55:13] \"GET /github.png HTTP/1.1\" 404 -\n",
      "127.0.0.1 - - [25/Jul/2022 03:55:14] \"GET /linkedin.png HTTP/1.1\" 404 -\n",
      "127.0.0.1 - - [25/Jul/2022 03:55:14] \"GET /twitter.png HTTP/1.1\" 404 -\n",
      "127.0.0.1 - - [25/Jul/2022 03:55:14] \"GET /instagram.png HTTP/1.1\" 404 -\n",
      "127.0.0.1 - - [25/Jul/2022 03:55:14] \"GET /static/assets/pexels-tima-miroshnichenko-6010766.mp4 HTTP/1.1\" 404 -\n"
     ]
    }
   ],
   "source": [
    "import os\n",
    "import urllib.request\n",
    "from flask import Flask, flash, request, redirect, url_for, render_template\n",
    "from werkzeug.utils import secure_filename\n",
    "import numpy as np\n",
    "import tensorflow as tf\n",
    "\n",
    "ASSET_FOLDER = 'static/assets/'\n",
    "\n",
    "app = Flask(__name__)\n",
    "app.config['ASSET_FOLDER'] = ASSET_FOLDER\n",
    "\n",
    "github_icon = os.path.join(app.config['ASSET_FOLDER'], 'github.png')\n",
    "linkedin_icon = os.path.join(app.config['ASSET_FOLDER'], 'linkedin.png')\n",
    "instagram_icon = os.path.join(app.config['ASSET_FOLDER'], 'instagram.png')\n",
    "twitter_icon = os.path.join(app.config['ASSET_FOLDER'], 'twitter.png')\n",
    "bg_video = os.path.join(app.config['ASSET_FOLDER'], 'pexels-tima-miroshnichenko-6010766.mp4')\n",
    "    \n",
    "@app.route('/')\n",
    "def upload_form():\n",
    "    return render_template('index.html', type=\"\", githubicon=github_icon, linkedinicon=linkedin_icon, instagramicon=instagram_icon, twittericon=twitter_icon, bgvideo=bg_video)\n",
    "\n",
    "@app.route('/', methods=['POST'])\n",
    "def upload_image():\n",
    "    file = request.files['file']\n",
    "    print(file.filename)\n",
    "    file.save(os.path.join(\"static/uploads\", secure_filename(file.filename)))\n",
    "\n",
    "    imvar = tf.keras.preprocessing.image.load_img(os.path.join(\"static/uploads\", secure_filename(file.filename))).resize((176, 176))\n",
    "    imarr = tf.keras.preprocessing.image.img_to_array(imvar)\n",
    "    imarr = np.array([imarr])\n",
    "    model = tf.keras.models.load_model(\"model\")\n",
    "    impred = model.predict(imarr)\n",
    "\n",
    "    def roundoff(arr):\n",
    "        \"\"\"To round off according to the argmax of each predicted label array. \"\"\"\n",
    "        arr[np.argwhere(arr != arr.max())] = 0\n",
    "        arr[np.argwhere(arr == arr.max())] = 1\n",
    "        return arr\n",
    "\n",
    "    for classpreds in impred:\n",
    "        impred = roundoff(classpreds)\n",
    "    \n",
    "    classcount = 1\n",
    "    for count in range(4):\n",
    "        if impred[count] == 1.0:\n",
    "            break\n",
    "        else:\n",
    "            classcount+=1\n",
    "    \n",
    "    classdict = {1: \"Mild Dementia\", 2: \"Moderate Dementia\", 3: \"No Dementia, Patient is Safe\", 4: \"Very Mild Dementia\"}\n",
    "    print(classdict[classcount])\n",
    "\n",
    "    c = 'xyz'\n",
    "    return render_template('index.html', type=\"Patient is suffering from \"+str(classdict[classcount]), githubicon=github_icon, linkedinicon=linkedin_icon, instagramicon=instagram_icon, twittericon=twitter_icon, bgvideo=bg_video)\n",
    "\n",
    "if __name__ == \"__main__\":\n",
    "    app.run()"
   ]
  },
  {
   "cell_type": "code",
   "execution_count": null,
   "metadata": {},
   "outputs": [],
   "source": []
  }
 ],
 "metadata": {
  "kernelspec": {
   "display_name": "Python 3.8.13",
   "language": "python",
   "name": "python3"
  },
  "language_info": {
   "codemirror_mode": {
    "name": "ipython",
    "version": 3
   },
   "file_extension": ".py",
   "mimetype": "text/x-python",
   "name": "python",
   "nbconvert_exporter": "python",
   "pygments_lexer": "ipython3",
   "version": "3.8.13"
  },
  "orig_nbformat": 4,
  "vscode": {
   "interpreter": {
    "hash": "63fd98301d029d0a71d609eeed07091d54f2b94ce9d083c24c87e87ff10a61e7"
   }
  }
 },
 "nbformat": 4,
 "nbformat_minor": 2
}
